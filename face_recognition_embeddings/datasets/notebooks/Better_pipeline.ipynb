{
 "cells": [
  {
   "cell_type": "code",
   "execution_count": 1,
   "metadata": {},
   "outputs": [],
   "source": [
    "import annoy\n",
    "import tabulate\n",
    "import random\n",
    "\n",
    "from sklearn.model_selection import train_test_split\n",
    "from sklearn.neighbors import LocalOutlierFactor\n",
    "from sklearn import metrics\n",
    "from sklearn.metrics import precision_recall_fscore_support, classification_report, accuracy_score\n",
    "\n",
    "from matplotlib import pyplot as plt\n",
    "import pandas as pd\n",
    "import numpy as np\n",
    "\n",
    "from joblib import dump, load"
   ]
  },
  {
   "cell_type": "markdown",
   "metadata": {},
   "source": [
    "### Divide data"
   ]
  },
  {
   "cell_type": "code",
   "execution_count": 2,
   "metadata": {},
   "outputs": [],
   "source": [
    "unknown = pd.read_csv(\"test_unknown.csv\")\n",
    "\n",
    "train_known = pd.read_csv(\"train.csv\")\n",
    "test_known = pd.read_csv(\"test_known.csv\")\n",
    "train_unknown, test_unknown = train_test_split(unknown, test_size=0.8, random_state=42)\n",
    "\n",
    "\n",
    "\n",
    "X_train_known, Y_train_known = train_known.drop([\"class\"], axis=1).values, train_known[\"class\"].values\n",
    "\n",
    "X_train_unknown, Y_train_unknown = train_unknown.drop([\"class\"], axis=1).values, train_unknown[\"class\"].values\n",
    "\n",
    "X_test_known, Y_test_known = test_known.drop([\"class\"], axis=1).values, test_known[\"class\"].values\n",
    "\n",
    "X_test_unknown, Y_test_unknown = test_unknown.drop([\"class\"], axis=1).values, test_unknown[\"class\"].values\n",
    "\n",
    "\n",
    "\n",
    "contamination = len(X_train_unknown)/(len(X_train_unknown) + len(X_train_known))"
   ]
  },
  {
   "cell_type": "markdown",
   "metadata": {},
   "source": [
    "### Outlier detector \"Local Outlier Factor\". Tune parameter"
   ]
  },
  {
   "cell_type": "code",
   "execution_count": 3,
   "metadata": {
    "scrolled": true
   },
   "outputs": [
    {
     "data": {
      "image/png": "[encoded data removed]",
      "text/plain": [
       "<Figure size 432x288 with 1 Axes>"
      ]
     },
     "metadata": {
      "needs_background": "light"
     },
     "output_type": "display_data"
    }
   ],
   "source": [
    "inlier_accuracies = []\n",
    "outlier_accuracies = []\n",
    "\n",
    "parameter_range = range(2, 30)\n",
    "\n",
    "for k in parameter_range:\n",
    "    clf = LocalOutlierFactor(\n",
    "        n_neighbors=k,\n",
    "        novelty=True,\n",
    "        contamination=contamination\n",
    "    )\n",
    "    clf.fit(np.vstack((X_train_known, X_train_unknown)))\n",
    "    \n",
    "    outlier_predict_known = clf.predict(X_test_known)\n",
    "    outlier_predict_unknown = clf.predict(X_test_unknown)\n",
    "    \n",
    "    inlier_accuracies.append(outlier_predict_known[outlier_predict_known == 1].size/outlier_predict_known.size)\n",
    "    outlier_accuracies.append(outlier_predict_unknown[outlier_predict_unknown == -1].size/outlier_predict_unknown.size)\n",
    "    \n",
    "plt.plot(parameter_range, inlier_accuracies, 'r', label=\"Inlier\")\n",
    "plt.plot(parameter_range, outlier_accuracies, 'b', label=\"Outlier\")\n",
    "plt.xticks(parameter_range)\n",
    "plt.xlabel(\"Parameter\")\n",
    "plt.ylabel(\"Accuracy\")\n",
    "plt.legend()\n",
    "plt.grid()\n",
    "plt.show()"
   ]
  },
  {
   "cell_type": "markdown",
   "metadata": {},
   "source": [
    "We choose 14 as the number of neighbors"
   ]
  },
  {
   "cell_type": "markdown",
   "metadata": {},
   "source": [
    "## Training"
   ]
  },
  {
   "cell_type": "code",
   "execution_count": 4,
   "metadata": {},
   "outputs": [],
   "source": [
    "# Global variables\n",
    "\n",
    "vector_length = X_train_known.shape[1]\n",
    "metric = \"angular\"\n",
    "LOF_name=\"loftest1\"\n",
    "Annoy_name=\"annoytest1\"\n",
    "n_neighbors=14"
   ]
  },
  {
   "cell_type": "markdown",
   "metadata": {},
   "source": [
    "### Local Outlier Factor"
   ]
  },
  {
   "cell_type": "code",
   "execution_count": 5,
   "metadata": {},
   "outputs": [],
   "source": [
    "def LOF_model_training(n_neighbors, LOF_name):\n",
    "\n",
    "    clf = LocalOutlierFactor(\n",
    "            n_neighbors=n_neighbors,\n",
    "            novelty=True,\n",
    "            contamination=contamination\n",
    "        )\n",
    "\n",
    "    clf.fit( np.vstack((X_train_known, X_train_unknown)) )\n",
    "    \n",
    "    dump(clf, '{}.joblib'.format(LOF_name)) "
   ]
  },
  {
   "cell_type": "markdown",
   "metadata": {},
   "source": [
    "### Classification Annoy Trees"
   ]
  },
  {
   "cell_type": "code",
   "execution_count": 6,
   "metadata": {},
   "outputs": [],
   "source": [
    "def Annoy_model_training(Ntrees, N_nearest_neighbors,Annoy_name):\n",
    "\n",
    "    Nsamples = X_train_known.shape[0]\n",
    "\n",
    "    t = annoy.AnnoyIndex(vector_length,metric=metric)\n",
    "    \n",
    "    for i, v in enumerate(X_train_known):\n",
    "        t.add_item(i, v)\n",
    "        \n",
    "    t.build(Ntrees)\n",
    "    \n",
    "    t.save('{}.ann'.format(Annoy_name))"
   ]
  },
  {
   "cell_type": "markdown",
   "metadata": {},
   "source": [
    "### Create models"
   ]
  },
  {
   "cell_type": "code",
   "execution_count": 7,
   "metadata": {},
   "outputs": [],
   "source": [
    "LOF_model_training(n_neighbors,LOF_name=LOF_name)\n",
    "Annoy_model_training(Ntrees=10,N_nearest_neighbors=5,Annoy_name=Annoy_name)"
   ]
  },
  {
   "cell_type": "markdown",
   "metadata": {},
   "source": [
    "## Pipeline"
   ]
  },
  {
   "cell_type": "markdown",
   "metadata": {},
   "source": [
    "### Load"
   ]
  },
  {
   "cell_type": "code",
   "execution_count": 8,
   "metadata": {},
   "outputs": [],
   "source": [
    "def load_models():\n",
    "    clf = load('{}.joblib'.format(LOF_name)) \n",
    "    u = annoy.AnnoyIndex(vector_length, metric=metric)\n",
    "    u.load('{}.ann'.format(Annoy_name))\n",
    "    \n",
    "    return clf, u"
   ]
  },
  {
   "cell_type": "markdown",
   "metadata": {},
   "source": [
    "### Single person"
   ]
  },
  {
   "cell_type": "code",
   "execution_count": 9,
   "metadata": {},
   "outputs": [],
   "source": [
    "def single_person_classification(subject,annoy_model,lof_model):\n",
    "    \n",
    "    out_or_in = lof_model.predict(subject.reshape(1, -1))\n",
    "        \n",
    "    if out_or_in == -1:\n",
    "        result = -1\n",
    "    elif out_or_in == 1:\n",
    "        result = Y_train_known[annoy_model.get_nns_by_vector(subject, 5,include_distances=False)[0]]\n",
    "                               \n",
    "    return result"
   ]
  },
  {
   "cell_type": "markdown",
   "metadata": {},
   "source": [
    "### Testing"
   ]
  },
  {
   "cell_type": "code",
   "execution_count": 16,
   "metadata": {},
   "outputs": [],
   "source": [
    "def testing():\n",
    "   \n",
    "    clf, u = load_models()\n",
    "    \n",
    "    # Known subjects\n",
    "    \n",
    "    known_prediction = []\n",
    "    \n",
    "    for subject in X_test_known:\n",
    "        known_prediction.append(single_person_classification(subject,annoy_model=u,lof_model=clf))\n",
    "        \n",
    "    unknown_prediction = []\n",
    "    \n",
    "    for subject in X_test_unknown:\n",
    "        unknown_prediction.append(single_person_classification(subject,annoy_model=u,lof_model=clf))\n",
    "        \n",
    "    print(\"Unknown accuracy score: \", accuracy_score(Y_test_unknown,unknown_prediction)*100,\"%\")\n",
    "    print(\"Known accuracy score:   \", accuracy_score(Y_test_known,known_prediction)*100,\"%\")"
   ]
  },
  {
   "cell_type": "code",
   "execution_count": 17,
   "metadata": {},
   "outputs": [
    {
     "name": "stdout",
     "output_type": "stream",
     "text": [
      "Unknown accuracy score:  88.715953307393 %\n",
      "Known accuracy score:    83.82838283828383 %\n"
     ]
    }
   ],
   "source": [
    "testing()"
   ]
  },
  {
   "cell_type": "code",
   "execution_count": null,
   "metadata": {},
   "outputs": [],
   "source": []
  }
 ],
 "metadata": {
  "kernelspec": {
   "display_name": "Python 3",
   "language": "python",
   "name": "python3"
  },
  "language_info": {
   "codemirror_mode": {
    "name": "ipython",
    "version": 3
   },
   "file_extension": ".py",
   "mimetype": "text/x-python",
   "name": "python",
   "nbconvert_exporter": "python",
   "pygments_lexer": "ipython3",
   "version": "3.8.2"
  }
 },
 "nbformat": 4,
 "nbformat_minor": 4
}
